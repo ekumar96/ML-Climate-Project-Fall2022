{
 "cells": [
  {
   "cell_type": "markdown",
   "id": "4dea9521",
   "metadata": {},
   "source": [
    "- Data Loading\n",
    "    - Missing values analysis/removal\n",
    "    - unit conversion\n",
    "    - plotting distribution and normalization\n",
    "    - feature correlation analysis/visualization (plot correlation matrix)\n",
    "    - plotting relationships between features (continuous and categorical) and feature of interest\n",
    "- Data pre-processing\n",
    "    - Encode categorial features appropriately.\n",
    "    - Split the dataset into training (60%), validation (20%), and test (20%) sets.\n",
    "    - Standardize the columns in the feature matrices X_train, X_val, and X_test to have zero mean and unit variance. To avoid information leakage, learn the standardization parameters (mean, variance) from X_train, and apply it to X_train, X_val, and X_test.\n",
    "    - Add a column of ones to the feature matrices X_train, X_val, and X_test. This is a common trick so that we can learn a coefficient for the bias term of a linear model.\n",
    "    \n",
    "Linear Regression\n",
    "- Train model\n",
    "- Evaluate model\n",
    "    - graph bar chart of biases\n",
    "- Adjusting hyperparameters\n",
    "    - adjusting regularization parameter alpha\n",
    "\n",
    "Logistic Regression\n",
    "- Train logistic regression model\n",
    "- Evaluate model\n",
    "- Adjusting hyperparameters\n",
    "\n",
    "SVMs\n",
    "- Train a dual SVM (with default parameters) for both kernel=“linear” and kernel=“rbf”)\n",
    "- Tune the hyperparameter “C” using the Grid Search & k-fold cross validation\n",
    "- Evaluate model\n",
    "\n",
    "Decision Tree\n",
    "- Fit a decision tree\n",
    "- Prune the tree\n",
    "\n",
    "Random Forests/Gradient Boosted Trees\n",
    "- Train/fit\n",
    "- Adjust hyperparameters\n",
    "- Re-evaluate model\n",
    "\n",
    "Try unsupervised learning and T-sne"
   ]
  },
  {
   "cell_type": "code",
   "execution_count": null,
   "id": "9eb1d4c1",
   "metadata": {},
   "outputs": [],
   "source": []
  }
 ],
 "metadata": {
  "kernelspec": {
   "display_name": "Python 3 (ipykernel)",
   "language": "python",
   "name": "python3"
  },
  "language_info": {
   "codemirror_mode": {
    "name": "ipython",
    "version": 3
   },
   "file_extension": ".py",
   "mimetype": "text/x-python",
   "name": "python",
   "nbconvert_exporter": "python",
   "pygments_lexer": "ipython3",
   "version": "3.9.10"
  }
 },
 "nbformat": 4,
 "nbformat_minor": 5
}
